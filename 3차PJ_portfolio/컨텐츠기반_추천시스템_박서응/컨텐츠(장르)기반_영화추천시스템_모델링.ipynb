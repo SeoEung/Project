{
 "cells": [
  {
   "cell_type": "code",
   "execution_count": 53,
   "id": "a231c453",
   "metadata": {},
   "outputs": [],
   "source": [
    "import pandas as pd # 데이터 핸들링 \n",
    "import numpy as np \n",
    "import warnings\n",
    "import json\n",
    "from ast import literal_eval\n",
    "from sklearn.feature_extraction.text import CountVectorizer\n",
    "from sklearn.metrics.pairwise import cosine_similarity\n",
    "warnings.filterwarnings(\"ignore\")"
   ]
  },
  {
   "cell_type": "code",
   "execution_count": 54,
   "id": "9f7e8808",
   "metadata": {},
   "outputs": [],
   "source": [
    "ratings = pd.read_csv(\"./data/ratings.csv\")"
   ]
  },
  {
   "cell_type": "code",
   "execution_count": 55,
   "id": "199cf360",
   "metadata": {},
   "outputs": [],
   "source": [
    "movie = pd.read_csv(\"./data/movies.csv\")"
   ]
  },
  {
   "cell_type": "code",
   "execution_count": 56,
   "id": "551f5f84",
   "metadata": {},
   "outputs": [],
   "source": [
    "movies= pd.merge(ratings.groupby('movieId', as_index=False)[['rating']].mean(), movie, on= 'movieId', how= 'inner')"
   ]
  },
  {
   "cell_type": "code",
   "execution_count": 57,
   "id": "73f3843d",
   "metadata": {},
   "outputs": [
    {
     "data": {
      "text/html": [
       "<div>\n",
       "<style scoped>\n",
       "    .dataframe tbody tr th:only-of-type {\n",
       "        vertical-align: middle;\n",
       "    }\n",
       "\n",
       "    .dataframe tbody tr th {\n",
       "        vertical-align: top;\n",
       "    }\n",
       "\n",
       "    .dataframe thead th {\n",
       "        text-align: right;\n",
       "    }\n",
       "</style>\n",
       "<table border=\"1\" class=\"dataframe\">\n",
       "  <thead>\n",
       "    <tr style=\"text-align: right;\">\n",
       "      <th></th>\n",
       "      <th>movieId</th>\n",
       "      <th>rating</th>\n",
       "      <th>title</th>\n",
       "      <th>genres</th>\n",
       "    </tr>\n",
       "  </thead>\n",
       "  <tbody>\n",
       "    <tr>\n",
       "      <th>0</th>\n",
       "      <td>1</td>\n",
       "      <td>3.920930</td>\n",
       "      <td>Toy Story (1995)</td>\n",
       "      <td>Adventure|Animation|Children|Comedy|Fantasy</td>\n",
       "    </tr>\n",
       "    <tr>\n",
       "      <th>1</th>\n",
       "      <td>2</td>\n",
       "      <td>3.431818</td>\n",
       "      <td>Jumanji (1995)</td>\n",
       "      <td>Adventure|Children|Fantasy</td>\n",
       "    </tr>\n",
       "    <tr>\n",
       "      <th>2</th>\n",
       "      <td>3</td>\n",
       "      <td>3.259615</td>\n",
       "      <td>Grumpier Old Men (1995)</td>\n",
       "      <td>Comedy|Romance</td>\n",
       "    </tr>\n",
       "    <tr>\n",
       "      <th>3</th>\n",
       "      <td>4</td>\n",
       "      <td>2.357143</td>\n",
       "      <td>Waiting to Exhale (1995)</td>\n",
       "      <td>Comedy|Drama|Romance</td>\n",
       "    </tr>\n",
       "    <tr>\n",
       "      <th>4</th>\n",
       "      <td>5</td>\n",
       "      <td>3.071429</td>\n",
       "      <td>Father of the Bride Part II (1995)</td>\n",
       "      <td>Comedy</td>\n",
       "    </tr>\n",
       "    <tr>\n",
       "      <th>...</th>\n",
       "      <td>...</td>\n",
       "      <td>...</td>\n",
       "      <td>...</td>\n",
       "      <td>...</td>\n",
       "    </tr>\n",
       "    <tr>\n",
       "      <th>9719</th>\n",
       "      <td>193581</td>\n",
       "      <td>4.000000</td>\n",
       "      <td>Black Butler: Book of the Atlantic (2017)</td>\n",
       "      <td>Action|Animation|Comedy|Fantasy</td>\n",
       "    </tr>\n",
       "    <tr>\n",
       "      <th>9720</th>\n",
       "      <td>193583</td>\n",
       "      <td>3.500000</td>\n",
       "      <td>No Game No Life: Zero (2017)</td>\n",
       "      <td>Animation|Comedy|Fantasy</td>\n",
       "    </tr>\n",
       "    <tr>\n",
       "      <th>9721</th>\n",
       "      <td>193585</td>\n",
       "      <td>3.500000</td>\n",
       "      <td>Flint (2017)</td>\n",
       "      <td>Drama</td>\n",
       "    </tr>\n",
       "    <tr>\n",
       "      <th>9722</th>\n",
       "      <td>193587</td>\n",
       "      <td>3.500000</td>\n",
       "      <td>Bungo Stray Dogs: Dead Apple (2018)</td>\n",
       "      <td>Action|Animation</td>\n",
       "    </tr>\n",
       "    <tr>\n",
       "      <th>9723</th>\n",
       "      <td>193609</td>\n",
       "      <td>4.000000</td>\n",
       "      <td>Andrew Dice Clay: Dice Rules (1991)</td>\n",
       "      <td>Comedy</td>\n",
       "    </tr>\n",
       "  </tbody>\n",
       "</table>\n",
       "<p>9724 rows × 4 columns</p>\n",
       "</div>"
      ],
      "text/plain": [
       "      movieId    rating                                      title  \\\n",
       "0           1  3.920930                           Toy Story (1995)   \n",
       "1           2  3.431818                             Jumanji (1995)   \n",
       "2           3  3.259615                    Grumpier Old Men (1995)   \n",
       "3           4  2.357143                   Waiting to Exhale (1995)   \n",
       "4           5  3.071429         Father of the Bride Part II (1995)   \n",
       "...       ...       ...                                        ...   \n",
       "9719   193581  4.000000  Black Butler: Book of the Atlantic (2017)   \n",
       "9720   193583  3.500000               No Game No Life: Zero (2017)   \n",
       "9721   193585  3.500000                               Flint (2017)   \n",
       "9722   193587  3.500000        Bungo Stray Dogs: Dead Apple (2018)   \n",
       "9723   193609  4.000000        Andrew Dice Clay: Dice Rules (1991)   \n",
       "\n",
       "                                           genres  \n",
       "0     Adventure|Animation|Children|Comedy|Fantasy  \n",
       "1                      Adventure|Children|Fantasy  \n",
       "2                                  Comedy|Romance  \n",
       "3                            Comedy|Drama|Romance  \n",
       "4                                          Comedy  \n",
       "...                                           ...  \n",
       "9719              Action|Animation|Comedy|Fantasy  \n",
       "9720                     Animation|Comedy|Fantasy  \n",
       "9721                                        Drama  \n",
       "9722                             Action|Animation  \n",
       "9723                                       Comedy  \n",
       "\n",
       "[9724 rows x 4 columns]"
      ]
     },
     "execution_count": 57,
     "metadata": {},
     "output_type": "execute_result"
    }
   ],
   "source": [
    "movies"
   ]
  },
  {
   "cell_type": "code",
   "execution_count": 58,
   "id": "e2ef1faa",
   "metadata": {},
   "outputs": [],
   "source": [
    "# 파이썬 객체 변환을 위한 함수 선언 후 적용\n",
    "\n",
    "def transform(a):\n",
    "    return a.split('|') \n",
    "\n",
    "movies['genres']= movies['genres'].apply(transform)"
   ]
  },
  {
   "cell_type": "code",
   "execution_count": 59,
   "id": "24bbe427",
   "metadata": {},
   "outputs": [
    {
     "data": {
      "text/plain": [
       "0       [Adventure, Animation, Children, Comedy, Fantasy]\n",
       "1                          [Adventure, Children, Fantasy]\n",
       "2                                       [Comedy, Romance]\n",
       "3                                [Comedy, Drama, Romance]\n",
       "4                                                [Comedy]\n",
       "                              ...                        \n",
       "9719                 [Action, Animation, Comedy, Fantasy]\n",
       "9720                         [Animation, Comedy, Fantasy]\n",
       "9721                                              [Drama]\n",
       "9722                                  [Action, Animation]\n",
       "9723                                             [Comedy]\n",
       "Name: genres, Length: 9724, dtype: object"
      ]
     },
     "execution_count": 59,
     "metadata": {},
     "output_type": "execute_result"
    }
   ],
   "source": [
    "movies['genres']"
   ]
  },
  {
   "cell_type": "code",
   "execution_count": 60,
   "id": "03919b32",
   "metadata": {},
   "outputs": [],
   "source": [
    "# 객체 변환한 movies['genres']를 movies_literal 로 저장\n",
    "\n",
    "movies['genres_literal']= movies['genres'].apply(lambda x : (' ').join(x))"
   ]
  },
  {
   "cell_type": "code",
   "execution_count": 61,
   "id": "c2f7db3e",
   "metadata": {},
   "outputs": [],
   "source": [
    "# 코사인 유사도 계산을 위해 데이터 피쳐의 벡터화\n",
    "\n",
    "count_vect= CountVectorizer(min_df= 0)\n",
    "genre_mat= count_vect.fit_transform(movies['genres_literal'])"
   ]
  },
  {
   "cell_type": "code",
   "execution_count": 62,
   "id": "ea57f09f",
   "metadata": {
    "collapsed": true
   },
   "outputs": [
    {
     "data": {
      "text/plain": [
       "array([[1.        , 0.77459667, 0.31622777, ..., 0.        , 0.31622777,\n",
       "        0.4472136 ],\n",
       "       [0.77459667, 1.        , 0.        , ..., 0.        , 0.        ,\n",
       "        0.        ],\n",
       "       [0.31622777, 0.        , 1.        , ..., 0.        , 0.        ,\n",
       "        0.70710678],\n",
       "       ...,\n",
       "       [0.        , 0.        , 0.        , ..., 1.        , 0.        ,\n",
       "        0.        ],\n",
       "       [0.31622777, 0.        , 0.        , ..., 0.        , 1.        ,\n",
       "        0.        ],\n",
       "       [0.4472136 , 0.        , 0.70710678, ..., 0.        , 0.        ,\n",
       "        1.        ]])"
      ]
     },
     "execution_count": 62,
     "metadata": {},
     "output_type": "execute_result"
    }
   ],
   "source": [
    "genre_sim= cosine_similarity(genre_mat, genre_mat) # 저장시켰던 것을 불러올 수 있도록\n",
    "genre_sim"
   ]
  },
  {
   "cell_type": "code",
   "execution_count": 75,
   "id": "ec16d2d3",
   "metadata": {
    "scrolled": true
   },
   "outputs": [],
   "source": [
    "genre_sim 데이터를 컬럼과 인덱스를 title 로 하는 데이터프레임으로 데이터 저장\n",
    "\n",
    "data= pd.DataFrame(data= genre_sim, columns= movies.title, index= movies.title)"
   ]
  },
  {
   "cell_type": "code",
   "execution_count": 76,
   "id": "985857c0",
   "metadata": {
    "scrolled": false
   },
   "outputs": [],
   "source": [
    "genre_sim= data.values"
   ]
  },
  {
   "cell_type": "code",
   "execution_count": 77,
   "id": "e00b373b",
   "metadata": {},
   "outputs": [
    {
     "data": {
      "text/plain": [
       "array([[1.        , 0.77459667, 0.31622777, ..., 0.        , 0.31622777,\n",
       "        0.4472136 ],\n",
       "       [0.77459667, 1.        , 0.        , ..., 0.        , 0.        ,\n",
       "        0.        ],\n",
       "       [0.31622777, 0.        , 1.        , ..., 0.        , 0.        ,\n",
       "        0.70710678],\n",
       "       ...,\n",
       "       [0.        , 0.        , 0.        , ..., 1.        , 0.        ,\n",
       "        0.        ],\n",
       "       [0.31622777, 0.        , 0.        , ..., 0.        , 1.        ,\n",
       "        0.        ],\n",
       "       [0.4472136 , 0.        , 0.70710678, ..., 0.        , 0.        ,\n",
       "        1.        ]])"
      ]
     },
     "execution_count": 77,
     "metadata": {},
     "output_type": "execute_result"
    }
   ],
   "source": [
    "genre_sim"
   ]
  },
  {
   "cell_type": "code",
   "execution_count": 65,
   "id": "d9f21d0c",
   "metadata": {},
   "outputs": [],
   "source": [
    "# 유사도가 높은 순서로 정렬 된 비교행 위치 인덱스 값 구한 후 저장\n",
    "\n",
    "genre_sim_sorted_ind= genre_sim.argsort()[:, ::-1]"
   ]
  },
  {
   "cell_type": "code",
   "execution_count": 66,
   "id": "251767f0",
   "metadata": {},
   "outputs": [
    {
     "name": "stdout",
     "output_type": "stream",
     "text": [
      "[[   0 1705 6177 ... 3498 3499 4861]]\n"
     ]
    }
   ],
   "source": [
    "print(genre_sim_sorted_ind[:1]) # 0번 레코드를 제외하면 앞에 두개는 유사도 높은순, 뒤에 두개는 유사도 낮은순"
   ]
  },
  {
   "cell_type": "code",
   "execution_count": 67,
   "id": "a4e4611d",
   "metadata": {},
   "outputs": [],
   "source": [
    "# 장르가 유사한 영화 추천 함수 선언\n",
    "\n",
    "def REC(df, sorted_ind, title_name, top_n= 10):\n",
    "    \n",
    "    title_movie= df[df['title']== title_name] # title 해당 데이터 추출\n",
    "    \n",
    "    # title_name 을 가진 데이터프레임의 index 객체를 ndarray로 반환 / sorted_ind 인자로 입력 된 genre_sim_sorted_ind 객체에서 유사도 순 추출\n",
    "    \n",
    "    title_index= title_movie.index.values\n",
    "    similar_indexes= sorted_ind[title_index, :(top_n)]\n",
    "    \n",
    "    #  top_n index 는 2차원 데이터 ㅡ> 1차원 array로 변경\n",
    "    \n",
    "    print(similar_indexes)\n",
    "    similar_indexes= similar_indexes.reshape(-1)\n",
    "    \n",
    "    # index 에 해당되는 데이터프레임 반환\n",
    "    \n",
    "    return df.iloc[similar_indexes]"
   ]
  },
  {
   "cell_type": "code",
   "execution_count": 68,
   "id": "b93fddf8",
   "metadata": {
    "collapsed": true
   },
   "outputs": [
    {
     "name": "stdout",
     "output_type": "stream",
     "text": [
      "[[6372 6734   53 9318 1616 8623 8782 1798 6058 1617]]\n"
     ]
    },
    {
     "data": {
      "text/html": [
       "<div>\n",
       "<style scoped>\n",
       "    .dataframe tbody tr th:only-of-type {\n",
       "        vertical-align: middle;\n",
       "    }\n",
       "\n",
       "    .dataframe tbody tr th {\n",
       "        vertical-align: top;\n",
       "    }\n",
       "\n",
       "    .dataframe thead th {\n",
       "        text-align: right;\n",
       "    }\n",
       "</style>\n",
       "<table border=\"1\" class=\"dataframe\">\n",
       "  <thead>\n",
       "    <tr style=\"text-align: right;\">\n",
       "      <th></th>\n",
       "      <th>title</th>\n",
       "      <th>rating</th>\n",
       "      <th>genres</th>\n",
       "    </tr>\n",
       "  </thead>\n",
       "  <tbody>\n",
       "    <tr>\n",
       "      <th>6372</th>\n",
       "      <td>Bridge to Terabithia (2007)</td>\n",
       "      <td>2.777778</td>\n",
       "      <td>[Adventure, Children, Fantasy]</td>\n",
       "    </tr>\n",
       "    <tr>\n",
       "      <th>6734</th>\n",
       "      <td>Chronicles of Narnia: Prince Caspian, The (2008)</td>\n",
       "      <td>3.541667</td>\n",
       "      <td>[Adventure, Children, Fantasy]</td>\n",
       "    </tr>\n",
       "    <tr>\n",
       "      <th>53</th>\n",
       "      <td>Indian in the Cupboard, The (1995)</td>\n",
       "      <td>3.235294</td>\n",
       "      <td>[Adventure, Children, Fantasy]</td>\n",
       "    </tr>\n",
       "    <tr>\n",
       "      <th>9318</th>\n",
       "      <td>Pete's Dragon (2016)</td>\n",
       "      <td>3.000000</td>\n",
       "      <td>[Adventure, Children, Fantasy]</td>\n",
       "    </tr>\n",
       "    <tr>\n",
       "      <th>1616</th>\n",
       "      <td>NeverEnding Story, The (1984)</td>\n",
       "      <td>3.581395</td>\n",
       "      <td>[Adventure, Children, Fantasy]</td>\n",
       "    </tr>\n",
       "    <tr>\n",
       "      <th>8623</th>\n",
       "      <td>Seventh Son (2014)</td>\n",
       "      <td>2.250000</td>\n",
       "      <td>[Adventure, Children, Fantasy]</td>\n",
       "    </tr>\n",
       "    <tr>\n",
       "      <th>8782</th>\n",
       "      <td>Pan (2015)</td>\n",
       "      <td>2.500000</td>\n",
       "      <td>[Adventure, Children, Fantasy]</td>\n",
       "    </tr>\n",
       "    <tr>\n",
       "      <th>1798</th>\n",
       "      <td>Santa Claus: The Movie (1985)</td>\n",
       "      <td>2.250000</td>\n",
       "      <td>[Adventure, Children, Fantasy]</td>\n",
       "    </tr>\n",
       "    <tr>\n",
       "      <th>6058</th>\n",
       "      <td>Chronicles of Narnia: The Lion, the Witch and ...</td>\n",
       "      <td>3.443548</td>\n",
       "      <td>[Adventure, Children, Fantasy]</td>\n",
       "    </tr>\n",
       "    <tr>\n",
       "      <th>1617</th>\n",
       "      <td>NeverEnding Story II: The Next Chapter, The (1...</td>\n",
       "      <td>2.500000</td>\n",
       "      <td>[Adventure, Children, Fantasy]</td>\n",
       "    </tr>\n",
       "  </tbody>\n",
       "</table>\n",
       "</div>"
      ],
      "text/plain": [
       "                                                  title    rating  \\\n",
       "6372                        Bridge to Terabithia (2007)  2.777778   \n",
       "6734   Chronicles of Narnia: Prince Caspian, The (2008)  3.541667   \n",
       "53                   Indian in the Cupboard, The (1995)  3.235294   \n",
       "9318                               Pete's Dragon (2016)  3.000000   \n",
       "1616                      NeverEnding Story, The (1984)  3.581395   \n",
       "8623                                 Seventh Son (2014)  2.250000   \n",
       "8782                                         Pan (2015)  2.500000   \n",
       "1798                      Santa Claus: The Movie (1985)  2.250000   \n",
       "6058  Chronicles of Narnia: The Lion, the Witch and ...  3.443548   \n",
       "1617  NeverEnding Story II: The Next Chapter, The (1...  2.500000   \n",
       "\n",
       "                              genres  \n",
       "6372  [Adventure, Children, Fantasy]  \n",
       "6734  [Adventure, Children, Fantasy]  \n",
       "53    [Adventure, Children, Fantasy]  \n",
       "9318  [Adventure, Children, Fantasy]  \n",
       "1616  [Adventure, Children, Fantasy]  \n",
       "8623  [Adventure, Children, Fantasy]  \n",
       "8782  [Adventure, Children, Fantasy]  \n",
       "1798  [Adventure, Children, Fantasy]  \n",
       "6058  [Adventure, Children, Fantasy]  \n",
       "1617  [Adventure, Children, Fantasy]  "
      ]
     },
     "execution_count": 68,
     "metadata": {},
     "output_type": "execute_result"
    }
   ],
   "source": [
    "# 영화 선택에 따른 유사 영화 추천\n",
    "\n",
    "similar_movies= REC(movies, genre_sim_sorted_ind, 'Jumanji (1995)', 10)\n",
    "similar_movies[['title', 'rating', 'genres']]"
   ]
  },
  {
   "cell_type": "code",
   "execution_count": 69,
   "id": "a3c8f0c1",
   "metadata": {},
   "outputs": [
    {
     "name": "stdout",
     "output_type": "stream",
     "text": [
      "[[6372 6734   53 9318 1616 8623 8782 1798 6058 1617]]\n"
     ]
    }
   ],
   "source": [
    "usr_input = 'Jumanji (1995)' #사용자 데이터\n",
    "genre_sim_sorted_ind = genre_sim_sorted_ind= genre_sim.argsort()[:, ::-1]\n",
    "# usr_input 의 index값을 먼저 추출 후 movies 타이틀의 인덱스가 함수로 넘어가야 함\n",
    "similar_index= REC(movies, genre_sim_sorted_ind, 'Jumanji (1995)', 10)\n",
    "# db에서 위 인덱스에 해당하는 영화정보 추출해 와야함"
   ]
  },
  {
   "cell_type": "code",
   "execution_count": 80,
   "id": "f1e1f962",
   "metadata": {
    "collapsed": true
   },
   "outputs": [
    {
     "data": {
      "text/html": [
       "<div>\n",
       "<style scoped>\n",
       "    .dataframe tbody tr th:only-of-type {\n",
       "        vertical-align: middle;\n",
       "    }\n",
       "\n",
       "    .dataframe tbody tr th {\n",
       "        vertical-align: top;\n",
       "    }\n",
       "\n",
       "    .dataframe thead th {\n",
       "        text-align: right;\n",
       "    }\n",
       "</style>\n",
       "<table border=\"1\" class=\"dataframe\">\n",
       "  <thead>\n",
       "    <tr style=\"text-align: right;\">\n",
       "      <th></th>\n",
       "      <th>movieId</th>\n",
       "      <th>rating</th>\n",
       "      <th>title</th>\n",
       "      <th>genres</th>\n",
       "      <th>genres_literal</th>\n",
       "    </tr>\n",
       "  </thead>\n",
       "  <tbody>\n",
       "    <tr>\n",
       "      <th>0</th>\n",
       "      <td>1</td>\n",
       "      <td>3.920930</td>\n",
       "      <td>Toy Story (1995)</td>\n",
       "      <td>[Adventure, Animation, Children, Comedy, Fantasy]</td>\n",
       "      <td>Adventure Animation Children Comedy Fantasy</td>\n",
       "    </tr>\n",
       "    <tr>\n",
       "      <th>1</th>\n",
       "      <td>2</td>\n",
       "      <td>3.431818</td>\n",
       "      <td>Jumanji (1995)</td>\n",
       "      <td>[Adventure, Children, Fantasy]</td>\n",
       "      <td>Adventure Children Fantasy</td>\n",
       "    </tr>\n",
       "    <tr>\n",
       "      <th>2</th>\n",
       "      <td>3</td>\n",
       "      <td>3.259615</td>\n",
       "      <td>Grumpier Old Men (1995)</td>\n",
       "      <td>[Comedy, Romance]</td>\n",
       "      <td>Comedy Romance</td>\n",
       "    </tr>\n",
       "    <tr>\n",
       "      <th>3</th>\n",
       "      <td>4</td>\n",
       "      <td>2.357143</td>\n",
       "      <td>Waiting to Exhale (1995)</td>\n",
       "      <td>[Comedy, Drama, Romance]</td>\n",
       "      <td>Comedy Drama Romance</td>\n",
       "    </tr>\n",
       "    <tr>\n",
       "      <th>4</th>\n",
       "      <td>5</td>\n",
       "      <td>3.071429</td>\n",
       "      <td>Father of the Bride Part II (1995)</td>\n",
       "      <td>[Comedy]</td>\n",
       "      <td>Comedy</td>\n",
       "    </tr>\n",
       "    <tr>\n",
       "      <th>...</th>\n",
       "      <td>...</td>\n",
       "      <td>...</td>\n",
       "      <td>...</td>\n",
       "      <td>...</td>\n",
       "      <td>...</td>\n",
       "    </tr>\n",
       "    <tr>\n",
       "      <th>9719</th>\n",
       "      <td>193581</td>\n",
       "      <td>4.000000</td>\n",
       "      <td>Black Butler: Book of the Atlantic (2017)</td>\n",
       "      <td>[Action, Animation, Comedy, Fantasy]</td>\n",
       "      <td>Action Animation Comedy Fantasy</td>\n",
       "    </tr>\n",
       "    <tr>\n",
       "      <th>9720</th>\n",
       "      <td>193583</td>\n",
       "      <td>3.500000</td>\n",
       "      <td>No Game No Life: Zero (2017)</td>\n",
       "      <td>[Animation, Comedy, Fantasy]</td>\n",
       "      <td>Animation Comedy Fantasy</td>\n",
       "    </tr>\n",
       "    <tr>\n",
       "      <th>9721</th>\n",
       "      <td>193585</td>\n",
       "      <td>3.500000</td>\n",
       "      <td>Flint (2017)</td>\n",
       "      <td>[Drama]</td>\n",
       "      <td>Drama</td>\n",
       "    </tr>\n",
       "    <tr>\n",
       "      <th>9722</th>\n",
       "      <td>193587</td>\n",
       "      <td>3.500000</td>\n",
       "      <td>Bungo Stray Dogs: Dead Apple (2018)</td>\n",
       "      <td>[Action, Animation]</td>\n",
       "      <td>Action Animation</td>\n",
       "    </tr>\n",
       "    <tr>\n",
       "      <th>9723</th>\n",
       "      <td>193609</td>\n",
       "      <td>4.000000</td>\n",
       "      <td>Andrew Dice Clay: Dice Rules (1991)</td>\n",
       "      <td>[Comedy]</td>\n",
       "      <td>Comedy</td>\n",
       "    </tr>\n",
       "  </tbody>\n",
       "</table>\n",
       "<p>9724 rows × 5 columns</p>\n",
       "</div>"
      ],
      "text/plain": [
       "      movieId    rating                                      title  \\\n",
       "0           1  3.920930                           Toy Story (1995)   \n",
       "1           2  3.431818                             Jumanji (1995)   \n",
       "2           3  3.259615                    Grumpier Old Men (1995)   \n",
       "3           4  2.357143                   Waiting to Exhale (1995)   \n",
       "4           5  3.071429         Father of the Bride Part II (1995)   \n",
       "...       ...       ...                                        ...   \n",
       "9719   193581  4.000000  Black Butler: Book of the Atlantic (2017)   \n",
       "9720   193583  3.500000               No Game No Life: Zero (2017)   \n",
       "9721   193585  3.500000                               Flint (2017)   \n",
       "9722   193587  3.500000        Bungo Stray Dogs: Dead Apple (2018)   \n",
       "9723   193609  4.000000        Andrew Dice Clay: Dice Rules (1991)   \n",
       "\n",
       "                                                 genres  \\\n",
       "0     [Adventure, Animation, Children, Comedy, Fantasy]   \n",
       "1                        [Adventure, Children, Fantasy]   \n",
       "2                                     [Comedy, Romance]   \n",
       "3                              [Comedy, Drama, Romance]   \n",
       "4                                              [Comedy]   \n",
       "...                                                 ...   \n",
       "9719               [Action, Animation, Comedy, Fantasy]   \n",
       "9720                       [Animation, Comedy, Fantasy]   \n",
       "9721                                            [Drama]   \n",
       "9722                                [Action, Animation]   \n",
       "9723                                           [Comedy]   \n",
       "\n",
       "                                   genres_literal  \n",
       "0     Adventure Animation Children Comedy Fantasy  \n",
       "1                      Adventure Children Fantasy  \n",
       "2                                  Comedy Romance  \n",
       "3                            Comedy Drama Romance  \n",
       "4                                          Comedy  \n",
       "...                                           ...  \n",
       "9719              Action Animation Comedy Fantasy  \n",
       "9720                     Animation Comedy Fantasy  \n",
       "9721                                        Drama  \n",
       "9722                             Action Animation  \n",
       "9723                                       Comedy  \n",
       "\n",
       "[9724 rows x 5 columns]"
      ]
     },
     "execution_count": 80,
     "metadata": {},
     "output_type": "execute_result"
    }
   ],
   "source": [
    "movies"
   ]
  },
  {
   "cell_type": "code",
   "execution_count": 79,
   "id": "f252444d",
   "metadata": {},
   "outputs": [],
   "source": [
    "movies.to_csv('./data/movies_df.csv')"
   ]
  },
  {
   "cell_type": "code",
   "execution_count": 72,
   "id": "03f5ea34",
   "metadata": {
    "scrolled": true
   },
   "outputs": [
    {
     "data": {
      "text/plain": [
       "title\n",
       "Toy Story (1995)                      0\n",
       "Jumanji (1995)                        1\n",
       "Grumpier Old Men (1995)               2\n",
       "Waiting to Exhale (1995)              3\n",
       "Father of the Bride Part II (1995)    4\n",
       "dtype: int64"
      ]
     },
     "execution_count": 72,
     "metadata": {},
     "output_type": "execute_result"
    }
   ],
   "source": [
    "# indices 를 title 를 인덱스로 하는 movie 인덱스 값을 시리즈로 저장\n",
    "\n",
    "indices= pd.Series(movies.index, index= movies['title'])\n",
    "indices.head()"
   ]
  },
  {
   "cell_type": "code",
   "execution_count": 83,
   "id": "60f28e8d",
   "metadata": {},
   "outputs": [
    {
     "name": "stdout",
     "output_type": "stream",
     "text": [
      "0\n"
     ]
    }
   ],
   "source": [
    "idx= indices['Toy Story (1995)']\n",
    "print(idx)"
   ]
  },
  {
   "cell_type": "code",
   "execution_count": 73,
   "id": "694fd168",
   "metadata": {},
   "outputs": [],
   "source": [
    "# 장르가 유사한 영화 추천 함수 선언\n",
    "\n",
    "def REC(title, genre_sim= genre_sim):\n",
    "    choice= []\n",
    "    \n",
    "    # 앞서 저장한 시리즈 값의 title 을 idx 로 저장\n",
    "    idx= indices[title]\n",
    "    \n",
    "    # 유사도 계산 된 값을 리스트로 반환\n",
    "    sim_scores= list(enumerate(genre_sim[idx]))\n",
    "    \n",
    "    # 반환 된 리스트 값을 유사도 높은 순으로 정렬\n",
    "    sim_scores= sorted(sim_scores, key= lambda x: x[1], reverse= True)\n",
    "    \n",
    "    # 높은 순으로 정렬 된 유사도중 높은 것 10개 추출\n",
    "    sim_scores= sim_scores[1:11]\n",
    "    \n",
    "    # 추출 된 높은 유사도를 가진 10개의 영화를 movie_indices 에 저장\n",
    "    movie_indices= [i[0] for i in sim_scores]\n",
    "    \n",
    "    for i in range(10):\n",
    "        choice.append(movies['title'][movie_indices[i]])\n",
    "        \n",
    "    print('**영화 추천 목록**')\n",
    "    for i in range(10):\n",
    "        print(str(i+1) + choice[i])"
   ]
  },
  {
   "cell_type": "code",
   "execution_count": 84,
   "id": "38d8dad4",
   "metadata": {},
   "outputs": [
    {
     "name": "stdout",
     "output_type": "stream",
     "text": [
      "**영화 추천 목록**\n",
      "1Indian in the Cupboard, The (1995)\n",
      "2NeverEnding Story III, The (1994)\n",
      "3Escape to Witch Mountain (1975)\n",
      "4Darby O'Gill and the Little People (1959)\n",
      "5Return to Oz (1985)\n",
      "6NeverEnding Story, The (1984)\n",
      "7NeverEnding Story II: The Next Chapter, The (1990)\n",
      "8Santa Claus: The Movie (1985)\n",
      "9Harry Potter and the Sorcerer's Stone (a.k.a. Harry Potter and the Philosopher's Stone) (2001)\n",
      "10Chronicles of Narnia: The Lion, the Witch and the Wardrobe, The (2005)\n"
     ]
    }
   ],
   "source": [
    "REC('Jumanji (1995)')"
   ]
  },
  {
   "cell_type": "code",
   "execution_count": null,
   "id": "0cc6cc5e",
   "metadata": {},
   "outputs": [],
   "source": []
  }
 ],
 "metadata": {
  "kernelspec": {
   "display_name": "Python 3 (ipykernel)",
   "language": "python",
   "name": "python3"
  },
  "language_info": {
   "codemirror_mode": {
    "name": "ipython",
    "version": 3
   },
   "file_extension": ".py",
   "mimetype": "text/x-python",
   "name": "python",
   "nbconvert_exporter": "python",
   "pygments_lexer": "ipython3",
   "version": "3.8.12"
  }
 },
 "nbformat": 4,
 "nbformat_minor": 5
}
